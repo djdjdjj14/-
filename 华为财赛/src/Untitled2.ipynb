{
 "cells": [
  {
   "cell_type": "code",
   "execution_count": 6,
   "metadata": {},
   "outputs": [
    {
     "ename": "ModuleNotFoundError",
     "evalue": "No module named 'statsmodel'",
     "output_type": "error",
     "traceback": [
      "\u001b[1;31m---------------------------------------------------------------------------\u001b[0m",
      "\u001b[1;31mModuleNotFoundError\u001b[0m                       Traceback (most recent call last)",
      "\u001b[1;32m<ipython-input-6-41bf540b00ab>\u001b[0m in \u001b[0;36m<module>\u001b[1;34m()\u001b[0m\n\u001b[0;32m      3\u001b[0m \u001b[1;32mimport\u001b[0m \u001b[0mmatplotlib\u001b[0m \u001b[1;32mas\u001b[0m \u001b[0mmp\u001b[0m\u001b[1;33m\u001b[0m\u001b[0m\n\u001b[0;32m      4\u001b[0m \u001b[1;32mimport\u001b[0m \u001b[0mseaborn\u001b[0m \u001b[1;32mas\u001b[0m \u001b[0msb\u001b[0m\u001b[1;33m\u001b[0m\u001b[0m\n\u001b[1;32m----> 5\u001b[1;33m \u001b[1;32mfrom\u001b[0m \u001b[0mstatsmodel\u001b[0m\u001b[1;33m.\u001b[0m\u001b[0mtsa\u001b[0m\u001b[1;33m.\u001b[0m\u001b[0mar_model\u001b[0m \u001b[1;32mimport\u001b[0m \u001b[0mAR\u001b[0m\u001b[1;33m\u001b[0m\u001b[0m\n\u001b[0m\u001b[0;32m      6\u001b[0m \u001b[1;32mdef\u001b[0m \u001b[0mexponential_smoothing\u001b[0m\u001b[1;33m(\u001b[0m\u001b[0malpha\u001b[0m\u001b[1;33m,\u001b[0m \u001b[0ms\u001b[0m\u001b[1;33m)\u001b[0m\u001b[1;33m:\u001b[0m\u001b[1;33m\u001b[0m\u001b[0m\n\u001b[0;32m      7\u001b[0m \u001b[1;33m\u001b[0m\u001b[0m\n",
      "\u001b[1;31mModuleNotFoundError\u001b[0m: No module named 'statsmodel'"
     ]
    }
   ],
   "source": [
    "import numpy as np\n",
    "import pandas as pd\n",
    "import matplotlib as mp\n",
    "import seaborn as sb\n",
    "from statsmodel.tsa.ar_model import AR\n",
    "def exponential_smoothing(alpha, s):\n",
    "\n",
    "    s_temp = [0 for i in range(len(s))]\n",
    "    s_temp[0] = ( s[0] + s[1] + s[2] ) / 3\n",
    "    for i in range(1, len(s)):\n",
    "        s_temp[i] = alpha * s[i] + (1 - alpha) * s_temp[i-1]\n",
    "    return s_temp\n",
    "\n",
    "def compute_single(alpha, s):\n",
    "    return exponential_smoothing(alpha, s)\n",
    "\n",
    "def compute_triple(alpha, s):\n",
    "\n",
    "    s_single = compute_single(alpha, s)\n",
    "    s_double = compute_single(alpha, s_single)\n",
    "    s_triple = exponential_smoothing(alpha, s_double)\n",
    "\n",
    "    a_triple = [0 for i in range(len(s))]\n",
    "    b_triple = [0 for i in range(len(s))]\n",
    "    c_triple = [0 for i in range(len(s))]\n",
    "\n",
    "    for i in range(len(s)):\n",
    "        a_triple[i] = 3 * s_single[i] - 3 * s_double[i] + s_triple[i]\n",
    "        b_triple[i] = (alpha / (2 * ((1 - alpha) ** 2))) * ((6 - 5 * alpha) * s_single[i] - 2 * ((5 - 4 * alpha) * s_double[i]) + (4 - 3 * alpha) * s_triple[i])\n",
    "        c_triple[i] = ((alpha ** 2) / (2 * ((1 - alpha) ** 2))) * (s_single[i] - 2 * s_double[i] + s_triple[i])\n",
    "\n",
    "    return a_triple, b_triple, c_triple\n",
    "\n",
    "fore = np.loadtxt(open(\"c:\\\\cc\\\\1.csv\",\"rb\"),delimiter=\",\",skiprows=0)\n",
    "data = [x[0] for x in fore]\n",
    "alpha = 0.8\n",
    "a,b,c = compute_triple(alpha, data)\n"
   ]
  },
  {
   "cell_type": "code",
   "execution_count": null,
   "metadata": {},
   "outputs": [],
   "source": []
  }
 ],
 "metadata": {
  "kernelspec": {
   "display_name": "Python 3",
   "language": "python",
   "name": "python3"
  },
  "language_info": {
   "codemirror_mode": {
    "name": "ipython",
    "version": 3
   },
   "file_extension": ".py",
   "mimetype": "text/x-python",
   "name": "python",
   "nbconvert_exporter": "python",
   "pygments_lexer": "ipython3",
   "version": "3.7.0"
  }
 },
 "nbformat": 4,
 "nbformat_minor": 2
}
